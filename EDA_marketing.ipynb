{
 "cells": [
  {
   "cell_type": "markdown",
   "metadata": {},
   "source": [
    "# Тестовое задание на вакансию Junior Data Analyst в Top Face"
   ]
  },
  {
   "cell_type": "markdown",
   "metadata": {},
   "source": [
    "## Описание данных"
   ]
  },
  {
   "cell_type": "markdown",
   "metadata": {},
   "source": [
    "* Campaign_id - ID кампании;\n",
    "* Geo - геопозиция, на которую настроена рекламная кампания;\n",
    "* Buyer - байер, выполнивший запуск;\n",
    "* Impressions - количество показов рекламных объявлений;\n",
    "* Clicks - количество кликов; \n",
    "* Installs - количество установок;\n",
    "* Registrations - количество регистраций;\n",
    "* Spend - Затраченная сумма;\n",
    "* Revenue_ad (1d/7d/30d) - Выручка с рекламы от пользователей, зарегистрировавшихся в приложении, на 1/7/30 день их жизни\n",
    "* Revenue_in_app (1d/7d/30d) - Выручка с покупок от пользователей, зарегистрировавшихся в приложении, на 1/7/30 день их жизни\n",
    "* Payers (1d/7d/30d) - Количество покупателей в приложении на 1/7/30 день их жизни"
   ]
  },
  {
   "cell_type": "code",
   "execution_count": 1,
   "metadata": {},
   "outputs": [],
   "source": [
    "import pandas as pd\n",
    "import seaborn as sns\n",
    "import matplotlib.pyplot as plt"
   ]
  },
  {
   "cell_type": "markdown",
   "metadata": {},
   "source": [
    "## Предобработка"
   ]
  },
  {
   "cell_type": "code",
   "execution_count": 2,
   "metadata": {},
   "outputs": [
    {
     "data": {
      "text/html": [
       "<div>\n",
       "<style scoped>\n",
       "    .dataframe tbody tr th:only-of-type {\n",
       "        vertical-align: middle;\n",
       "    }\n",
       "\n",
       "    .dataframe tbody tr th {\n",
       "        vertical-align: top;\n",
       "    }\n",
       "\n",
       "    .dataframe thead th {\n",
       "        text-align: right;\n",
       "    }\n",
       "</style>\n",
       "<table border=\"1\" class=\"dataframe\">\n",
       "  <thead>\n",
       "    <tr style=\"text-align: right;\">\n",
       "      <th></th>\n",
       "      <th>Campaign_id</th>\n",
       "      <th>Geo</th>\n",
       "      <th>Buyer</th>\n",
       "      <th>Impressions</th>\n",
       "      <th>Clicks</th>\n",
       "      <th>Installs</th>\n",
       "      <th>Registrations</th>\n",
       "      <th>Spend</th>\n",
       "      <th>Revenue_ad1d</th>\n",
       "      <th>Revenue_in_app1d</th>\n",
       "      <th>Payers1d</th>\n",
       "      <th>Revenue_ad7d</th>\n",
       "      <th>Revenue_in_app7d</th>\n",
       "      <th>Payers7d</th>\n",
       "      <th>Revenue_ad30d</th>\n",
       "      <th>Revenue_in_app30d</th>\n",
       "      <th>Payers30d</th>\n",
       "    </tr>\n",
       "  </thead>\n",
       "  <tbody>\n",
       "    <tr>\n",
       "      <th>0</th>\n",
       "      <td>1</td>\n",
       "      <td>north america</td>\n",
       "      <td>buyer_1</td>\n",
       "      <td>3456974</td>\n",
       "      <td>129508</td>\n",
       "      <td>33054</td>\n",
       "      <td>21932</td>\n",
       "      <td>3208.440002</td>\n",
       "      <td>1163.521408</td>\n",
       "      <td>162.220001</td>\n",
       "      <td>64</td>\n",
       "      <td>1381.310062</td>\n",
       "      <td>199.749999</td>\n",
       "      <td>79</td>\n",
       "      <td>1527.013835</td>\n",
       "      <td>276.629998</td>\n",
       "      <td>83</td>\n",
       "    </tr>\n",
       "    <tr>\n",
       "      <th>1</th>\n",
       "      <td>2</td>\n",
       "      <td>north america</td>\n",
       "      <td>buyer_2</td>\n",
       "      <td>245542</td>\n",
       "      <td>6306</td>\n",
       "      <td>3401</td>\n",
       "      <td>2448</td>\n",
       "      <td>1569.519999</td>\n",
       "      <td>833.059639</td>\n",
       "      <td>37.250000</td>\n",
       "      <td>17</td>\n",
       "      <td>1200.964697</td>\n",
       "      <td>69.340001</td>\n",
       "      <td>19</td>\n",
       "      <td>1449.001828</td>\n",
       "      <td>120.250001</td>\n",
       "      <td>22</td>\n",
       "    </tr>\n",
       "    <tr>\n",
       "      <th>2</th>\n",
       "      <td>3</td>\n",
       "      <td>north america</td>\n",
       "      <td>buyer_1</td>\n",
       "      <td>1281103</td>\n",
       "      <td>35724</td>\n",
       "      <td>13315</td>\n",
       "      <td>8101</td>\n",
       "      <td>1231.999998</td>\n",
       "      <td>459.682600</td>\n",
       "      <td>3.260000</td>\n",
       "      <td>4</td>\n",
       "      <td>524.987826</td>\n",
       "      <td>24.700000</td>\n",
       "      <td>6</td>\n",
       "      <td>572.633765</td>\n",
       "      <td>24.700000</td>\n",
       "      <td>6</td>\n",
       "    </tr>\n",
       "    <tr>\n",
       "      <th>3</th>\n",
       "      <td>4</td>\n",
       "      <td>north america</td>\n",
       "      <td>buyer_1</td>\n",
       "      <td>215538</td>\n",
       "      <td>9987</td>\n",
       "      <td>3119</td>\n",
       "      <td>1857</td>\n",
       "      <td>1228.129999</td>\n",
       "      <td>602.778160</td>\n",
       "      <td>26.130000</td>\n",
       "      <td>11</td>\n",
       "      <td>830.113889</td>\n",
       "      <td>33.439999</td>\n",
       "      <td>12</td>\n",
       "      <td>1042.831595</td>\n",
       "      <td>57.530002</td>\n",
       "      <td>12</td>\n",
       "    </tr>\n",
       "    <tr>\n",
       "      <th>4</th>\n",
       "      <td>5</td>\n",
       "      <td>western europe</td>\n",
       "      <td>buyer_2</td>\n",
       "      <td>335878</td>\n",
       "      <td>7343</td>\n",
       "      <td>3952</td>\n",
       "      <td>2955</td>\n",
       "      <td>872.570005</td>\n",
       "      <td>427.807238</td>\n",
       "      <td>19.030001</td>\n",
       "      <td>4</td>\n",
       "      <td>577.039081</td>\n",
       "      <td>20.640001</td>\n",
       "      <td>5</td>\n",
       "      <td>714.554179</td>\n",
       "      <td>32.150001</td>\n",
       "      <td>6</td>\n",
       "    </tr>\n",
       "  </tbody>\n",
       "</table>\n",
       "</div>"
      ],
      "text/plain": [
       "   Campaign_id             Geo    Buyer  Impressions  Clicks  Installs  \\\n",
       "0            1   north america  buyer_1      3456974  129508     33054   \n",
       "1            2   north america  buyer_2       245542    6306      3401   \n",
       "2            3   north america  buyer_1      1281103   35724     13315   \n",
       "3            4   north america  buyer_1       215538    9987      3119   \n",
       "4            5  western europe  buyer_2       335878    7343      3952   \n",
       "\n",
       "   Registrations        Spend  Revenue_ad1d  Revenue_in_app1d  Payers1d  \\\n",
       "0          21932  3208.440002   1163.521408        162.220001        64   \n",
       "1           2448  1569.519999    833.059639         37.250000        17   \n",
       "2           8101  1231.999998    459.682600          3.260000         4   \n",
       "3           1857  1228.129999    602.778160         26.130000        11   \n",
       "4           2955   872.570005    427.807238         19.030001         4   \n",
       "\n",
       "   Revenue_ad7d  Revenue_in_app7d  Payers7d  Revenue_ad30d  Revenue_in_app30d  \\\n",
       "0   1381.310062        199.749999        79    1527.013835         276.629998   \n",
       "1   1200.964697         69.340001        19    1449.001828         120.250001   \n",
       "2    524.987826         24.700000         6     572.633765          24.700000   \n",
       "3    830.113889         33.439999        12    1042.831595          57.530002   \n",
       "4    577.039081         20.640001         5     714.554179          32.150001   \n",
       "\n",
       "   Payers30d  \n",
       "0         83  \n",
       "1         22  \n",
       "2          6  \n",
       "3         12  \n",
       "4          6  "
      ]
     },
     "execution_count": 2,
     "metadata": {},
     "output_type": "execute_result"
    }
   ],
   "source": [
    "data = pd.read_csv(r'C:\\Users\\Anton\\Downloads\\test_data.csv', decimal= ',')\n",
    "data.head()"
   ]
  },
  {
   "cell_type": "code",
   "execution_count": 3,
   "metadata": {},
   "outputs": [
    {
     "data": {
      "text/plain": [
       "Campaign_id            int64\n",
       "Geo                   object\n",
       "Buyer                 object\n",
       "Impressions            int64\n",
       "Clicks                 int64\n",
       "Installs               int64\n",
       "Registrations          int64\n",
       "Spend                float64\n",
       "Revenue_ad1d         float64\n",
       "Revenue_in_app1d     float64\n",
       "Payers1d               int64\n",
       "Revenue_ad7d         float64\n",
       "Revenue_in_app7d     float64\n",
       "Payers7d               int64\n",
       "Revenue_ad30d        float64\n",
       "Revenue_in_app30d    float64\n",
       "Payers30d              int64\n",
       "dtype: object"
      ]
     },
     "execution_count": 3,
     "metadata": {},
     "output_type": "execute_result"
    }
   ],
   "source": [
    "data.dtypes"
   ]
  },
  {
   "cell_type": "code",
   "execution_count": 4,
   "metadata": {},
   "outputs": [
    {
     "name": "stdout",
     "output_type": "stream",
     "text": [
      "<class 'pandas.core.frame.DataFrame'>\n",
      "RangeIndex: 87 entries, 0 to 86\n",
      "Data columns (total 17 columns):\n",
      " #   Column             Non-Null Count  Dtype  \n",
      "---  ------             --------------  -----  \n",
      " 0   Campaign_id        87 non-null     int64  \n",
      " 1   Geo                87 non-null     object \n",
      " 2   Buyer              87 non-null     object \n",
      " 3   Impressions        87 non-null     int64  \n",
      " 4   Clicks             87 non-null     int64  \n",
      " 5   Installs           87 non-null     int64  \n",
      " 6   Registrations      87 non-null     int64  \n",
      " 7   Spend              87 non-null     float64\n",
      " 8   Revenue_ad1d       87 non-null     float64\n",
      " 9   Revenue_in_app1d   87 non-null     float64\n",
      " 10  Payers1d           87 non-null     int64  \n",
      " 11  Revenue_ad7d       87 non-null     float64\n",
      " 12  Revenue_in_app7d   87 non-null     float64\n",
      " 13  Payers7d           87 non-null     int64  \n",
      " 14  Revenue_ad30d      87 non-null     float64\n",
      " 15  Revenue_in_app30d  87 non-null     float64\n",
      " 16  Payers30d          87 non-null     int64  \n",
      "dtypes: float64(7), int64(8), object(2)\n",
      "memory usage: 11.7+ KB\n"
     ]
    }
   ],
   "source": [
    "data.info()"
   ]
  },
  {
   "cell_type": "code",
   "execution_count": 5,
   "metadata": {},
   "outputs": [
    {
     "data": {
      "text/plain": [
       "Campaign_id          0\n",
       "Geo                  0\n",
       "Buyer                0\n",
       "Impressions          0\n",
       "Clicks               0\n",
       "Installs             0\n",
       "Registrations        0\n",
       "Spend                0\n",
       "Revenue_ad1d         0\n",
       "Revenue_in_app1d     0\n",
       "Payers1d             0\n",
       "Revenue_ad7d         0\n",
       "Revenue_in_app7d     0\n",
       "Payers7d             0\n",
       "Revenue_ad30d        0\n",
       "Revenue_in_app30d    0\n",
       "Payers30d            0\n",
       "dtype: int64"
      ]
     },
     "execution_count": 5,
     "metadata": {},
     "output_type": "execute_result"
    }
   ],
   "source": [
    "data.isnull().sum()"
   ]
  },
  {
   "cell_type": "code",
   "execution_count": 6,
   "metadata": {},
   "outputs": [
    {
     "data": {
      "text/plain": [
       "0"
      ]
     },
     "execution_count": 6,
     "metadata": {},
     "output_type": "execute_result"
    }
   ],
   "source": [
    "data.duplicated().sum()"
   ]
  },
  {
   "cell_type": "markdown",
   "metadata": {},
   "source": [
    "### Выводы после просмотра данных:\n",
    "Набор данных состоит из 87 строк, пропуски и дубликаты отстутсвуют, признаки с типом 'object' заменены на 'float32'"
   ]
  },
  {
   "cell_type": "markdown",
   "metadata": {},
   "source": [
    "## Анализ\n",
    "Компании из каких Geo показали себя хуже/лучше всех?\n",
    "За метрику возьму Conversion rate или же конверсию"
   ]
  },
  {
   "cell_type": "code",
   "execution_count": 7,
   "metadata": {},
   "outputs": [
    {
     "data": {
      "text/plain": [
       "north america        48\n",
       "western europe       22\n",
       "cis                  10\n",
       "latin america         3\n",
       "north africa          2\n",
       "tropical africa       1\n",
       "australia oceania     1\n",
       "Name: Geo, dtype: int64"
      ]
     },
     "execution_count": 7,
     "metadata": {},
     "output_type": "execute_result"
    }
   ],
   "source": [
    "data.Geo.value_counts()"
   ]
  },
  {
   "cell_type": "code",
   "execution_count": 8,
   "metadata": {},
   "outputs": [],
   "source": [
    "\n",
    "NA = data.loc[data.Geo =='north america']\n",
    "WE = data.loc[data.Geo =='western europe']\n",
    "C = data.loc[data.Geo =='cis']\n",
    "LA = data.loc[data.Geo =='latin america']\n",
    "NA = data.loc[data.Geo =='north africa']\n",
    "TA = data.loc[data.Geo =='tropical africa']\n",
    "AO = data.loc[data.Geo =='australia oceania']\n",
    "geos = [NA, WE, C, LA, NA, TA, AO]\n",
    "geos_2 = ['NorthAm', 'WestEur', 'Cis', 'LatinAm', 'NorthAf', 'TropicAf', 'AustOcea']"
   ]
  },
  {
   "cell_type": "code",
   "execution_count": 107,
   "metadata": {},
   "outputs": [
    {
     "data": {
      "image/png": "[encoded data removed]",
      "text/plain": [
       "<Figure size 640x480 with 1 Axes>"
      ]
     },
     "metadata": {},
     "output_type": "display_data"
    }
   ],
   "source": [
    "#Conversation Rate\n",
    "CR_1=[]\n",
    "CR_2=[]\n",
    "for i in geos:\n",
    "    CR_1.append(round((i.Installs/i.Clicks*100).mean(), 2))\n",
    "for i in geos:\n",
    "    CR_2.append(round((i.Registrations/i.Clicks*100).mean(), 2))\n",
    "CR_2  \n",
    "\n",
    "#Столбчатая диаграмма\n",
    "sns.barplot(x=geos_2, y=CR_1).set_title('Conversion rate(Installs)')\n",
    "plt.show()"
   ]
  },
  {
   "cell_type": "code",
   "execution_count": 11,
   "metadata": {},
   "outputs": [
    {
     "data": {
      "image/png": "[encoded data removed]",
      "text/plain": [
       "<Figure size 640x480 with 1 Axes>"
      ]
     },
     "metadata": {},
     "output_type": "display_data"
    }
   ],
   "source": [
    "sns.barplot(x=geos_2, y=CR_2).set_title('Conversion rate(Registration)')\n",
    "plt.show()"
   ]
  },
  {
   "cell_type": "markdown",
   "metadata": {},
   "source": [
    "### Вывод\n",
    "Самыми удачными по конверсии по установкам и регистрациям в среднем оказались Западная Европа, Северная Америка и Северная Африка, неудачные - Австралия и Океания, Тропическая африка\n"
   ]
  },
  {
   "cell_type": "markdown",
   "metadata": {},
   "source": [
    "Возьмём еще одну метрику -  CTR(показатель кликабельности) и сравним компании по локации"
   ]
  },
  {
   "cell_type": "code",
   "execution_count": 109,
   "metadata": {},
   "outputs": [
    {
     "data": {
      "image/png": "[encoded data removed]",
      "text/plain": [
       "<Figure size 640x480 with 1 Axes>"
      ]
     },
     "metadata": {},
     "output_type": "display_data"
    }
   ],
   "source": [
    "#Click-Through Rate\n",
    "CTR = []\n",
    "for i in geos:\n",
    "    CTR.append(round((i.Clicks/i.Impressions*100).mean(), 2))\n",
    "CTR\n",
    "\n",
    "sns.barplot(x=geos_2, y=CTR).set_title('Click-Through Rate')\n",
    "plt.show()"
   ]
  },
  {
   "cell_type": "markdown",
   "metadata": {},
   "source": [
    "По показателю кликабельности лучше всего показала компания в латинской америке, далее в тропической африке и северной африке. \n",
    "\n",
    "Это говорит о том, что в эnих регионах чаще кликают yа рекламу, однако реже устанавливают и регистрируются в приложении в отличие от регионов \"Северная Америка\" и \"Европа\""
   ]
  },
  {
   "cell_type": "markdown",
   "metadata": {},
   "source": [
    "### ВОПРОС 2. Кто из медиабайеров лучше всего окупается? \n",
    "\n",
    "Для ответа на данных  вопрос обратимся к метрике ROMI - учитывает окупаемость только маркетинговых инвестиций \n",
    " \n",
    "ROMI = (Доходы от маркетинга - Расходы на маркетинг)/ Расходы на маркетинг * 100%"
   ]
  },
  {
   "cell_type": "code",
   "execution_count": 13,
   "metadata": {},
   "outputs": [
    {
     "data": {
      "text/plain": [
       "buyer_2    39\n",
       "buyer_1    18\n",
       "buyer_4    16\n",
       "buyer_5     8\n",
       "buyer_3     6\n",
       "Name: Buyer, dtype: int64"
      ]
     },
     "execution_count": 13,
     "metadata": {},
     "output_type": "execute_result"
    }
   ],
   "source": [
    "data.Buyer.value_counts()"
   ]
  },
  {
   "cell_type": "code",
   "execution_count": 110,
   "metadata": {},
   "outputs": [],
   "source": [
    "buyer_1 = data.loc[data.Buyer == 'buyer_1']\n",
    "buyer_2 = data.loc[data.Buyer == 'buyer_2']\n",
    "buyer_3 = data.loc[data.Buyer == 'buyer_3']\n",
    "buyer_4 = data.loc[data.Buyer == 'buyer_4']\n",
    "buyer_5 = data.loc[data.Buyer == 'buyer_5']\n",
    "buyers = [buyer_1, buyer_2, buyer_3, buyer_4, buyer_5]\n",
    "buyers_2 = [\"b1\", \"b2\", \"b3\", \"b4\", \"b5\"]"
   ]
  },
  {
   "cell_type": "code",
   "execution_count": 111,
   "metadata": {},
   "outputs": [
    {
     "data": {
      "image/png": "[encoded data removed]",
      "text/plain": [
       "<Figure size 640x480 with 1 Axes>"
      ]
     },
     "metadata": {},
     "output_type": "display_data"
    }
   ],
   "source": [
    "#ROMI\n",
    "ROMI =[]\n",
    "for i in buyers:\n",
    "    ROMI.append(round(((i.Spend- i.Revenue_ad30d*100)/i.Spend).mean(), 2))\n",
    "ROMI\n",
    "\n",
    "sns.barplot(x=buyers_2, y=ROMI).set_title('ROMI')\n",
    "plt.show()"
   ]
  },
  {
   "cell_type": "markdown",
   "metadata": {},
   "source": [
    "Все медиабайеры оказались убыточными, однако можно заметить, что компании 5 и 1 байера показали наилучший результат по сравнению с другими"
   ]
  },
  {
   "cell_type": "markdown",
   "metadata": {},
   "source": [
    "### ВОПРОС 3. У каких кампаний дешевле установки (CPI)?\n",
    "\n",
    "CPI = затраты на рекламу / количество установок"
   ]
  },
  {
   "cell_type": "code",
   "execution_count": 105,
   "metadata": {},
   "outputs": [
    {
     "data": {
      "text/html": [
       "<div>\n",
       "<style scoped>\n",
       "    .dataframe tbody tr th:only-of-type {\n",
       "        vertical-align: middle;\n",
       "    }\n",
       "\n",
       "    .dataframe tbody tr th {\n",
       "        vertical-align: top;\n",
       "    }\n",
       "\n",
       "    .dataframe thead th {\n",
       "        text-align: right;\n",
       "    }\n",
       "</style>\n",
       "<table border=\"1\" class=\"dataframe\">\n",
       "  <thead>\n",
       "    <tr style=\"text-align: right;\">\n",
       "      <th></th>\n",
       "      <th>Campaign_id</th>\n",
       "      <th>CPI</th>\n",
       "    </tr>\n",
       "  </thead>\n",
       "  <tbody>\n",
       "    <tr>\n",
       "      <th>80</th>\n",
       "      <td>81</td>\n",
       "      <td>2.155000</td>\n",
       "    </tr>\n",
       "    <tr>\n",
       "      <th>19</th>\n",
       "      <td>20</td>\n",
       "      <td>0.802027</td>\n",
       "    </tr>\n",
       "    <tr>\n",
       "      <th>36</th>\n",
       "      <td>37</td>\n",
       "      <td>0.755781</td>\n",
       "    </tr>\n",
       "    <tr>\n",
       "      <th>65</th>\n",
       "      <td>66</td>\n",
       "      <td>0.742162</td>\n",
       "    </tr>\n",
       "    <tr>\n",
       "      <th>53</th>\n",
       "      <td>54</td>\n",
       "      <td>0.703281</td>\n",
       "    </tr>\n",
       "    <tr>\n",
       "      <th>24</th>\n",
       "      <td>25</td>\n",
       "      <td>0.642301</td>\n",
       "    </tr>\n",
       "    <tr>\n",
       "      <th>57</th>\n",
       "      <td>58</td>\n",
       "      <td>0.637727</td>\n",
       "    </tr>\n",
       "    <tr>\n",
       "      <th>54</th>\n",
       "      <td>55</td>\n",
       "      <td>0.627887</td>\n",
       "    </tr>\n",
       "    <tr>\n",
       "      <th>51</th>\n",
       "      <td>52</td>\n",
       "      <td>0.623506</td>\n",
       "    </tr>\n",
       "    <tr>\n",
       "      <th>22</th>\n",
       "      <td>23</td>\n",
       "      <td>0.577878</td>\n",
       "    </tr>\n",
       "  </tbody>\n",
       "</table>\n",
       "</div>"
      ],
      "text/plain": [
       "    Campaign_id       CPI\n",
       "80           81  2.155000\n",
       "19           20  0.802027\n",
       "36           37  0.755781\n",
       "65           66  0.742162\n",
       "53           54  0.703281\n",
       "24           25  0.642301\n",
       "57           58  0.637727\n",
       "54           55  0.627887\n",
       "51           52  0.623506\n",
       "22           23  0.577878"
      ]
     },
     "execution_count": 105,
     "metadata": {},
     "output_type": "execute_result"
    }
   ],
   "source": [
    "CPI = data.Spend/data.Installs\n",
    "CPI_frame = pd.DataFrame(data, columns = ['Campaign_id'])\n",
    "CPI_frame['CPI'] = data.Spend/data.Installs\n",
    "CPI_frame.nlargest(10, 'CPI')\n"
   ]
  },
  {
   "cell_type": "markdown",
   "metadata": {},
   "source": [
    "Cамой удачной с точки зрения CPI оказалась рекламная компания с id 81, которая с отрывом опередила остальных со значением 2.15, что является очень хорошим результатом. В тройку успешных рекламных компаний вошли компании 20 и 37 со значением CPI - 0.80 и 0.75 соответственно."
   ]
  },
  {
   "cell_type": "code",
   "execution_count": 115,
   "metadata": {},
   "outputs": [
    {
     "name": "stdout",
     "output_type": "stream",
     "text": [
      "---  Данные о рекламной компании id 81 ---\n"
     ]
    },
    {
     "data": {
      "text/plain": [
       "Campaign_id                         81\n",
       "Geo                  australia oceania\n",
       "Buyer                          buyer_5\n",
       "Impressions                       2185\n",
       "Clicks                              53\n",
       "Installs                            10\n",
       "Registrations                        9\n",
       "Spend                        21.549999\n",
       "Revenue_ad1d                  1.187304\n",
       "Revenue_in_app1d                   0.0\n",
       "Payers1d                             0\n",
       "Revenue_ad7d                  1.212664\n",
       "Revenue_in_app7d                   0.0\n",
       "Payers7d                             0\n",
       "Revenue_ad30d                 1.212664\n",
       "Revenue_in_app30d                  0.0\n",
       "Payers30d                            0\n",
       "CPA                           0.406604\n",
       "Name: 80, dtype: object"
      ]
     },
     "execution_count": 115,
     "metadata": {},
     "output_type": "execute_result"
    }
   ],
   "source": [
    "print('---  Данные о рекламной компании id 81 ---') \n",
    "data.iloc[80]"
   ]
  },
  {
   "cell_type": "markdown",
   "metadata": {},
   "source": [
    "### CPA (стоимость целевого действия)"
   ]
  },
  {
   "cell_type": "markdown",
   "metadata": {},
   "source": [
    "Рассмотрим ещё одну метрику маркетинга, дающую информацию о том, какова цена целевого действия: за целевое действия возьмём клики"
   ]
  },
  {
   "cell_type": "code",
   "execution_count": 96,
   "metadata": {},
   "outputs": [
    {
     "name": "stdout",
     "output_type": "stream",
     "text": [
      "Cредняя затрата на клики равна 0.141 y.e\n"
     ]
    }
   ],
   "source": [
    "#mean CPA\n",
    "CPA = (data.Spend.mean()/data.Clicks.mean())\n",
    "CPA = ((data.Spend/data.Clicks).mean())\n",
    "print('Cредняя затрата на клики равна', round(CPA,3), 'y.e')"
   ]
  },
  {
   "cell_type": "code",
   "execution_count": 103,
   "metadata": {},
   "outputs": [
    {
     "data": {
      "text/html": [
       "<div>\n",
       "<style scoped>\n",
       "    .dataframe tbody tr th:only-of-type {\n",
       "        vertical-align: middle;\n",
       "    }\n",
       "\n",
       "    .dataframe tbody tr th {\n",
       "        vertical-align: top;\n",
       "    }\n",
       "\n",
       "    .dataframe thead th {\n",
       "        text-align: right;\n",
       "    }\n",
       "</style>\n",
       "<table border=\"1\" class=\"dataframe\">\n",
       "  <thead>\n",
       "    <tr style=\"text-align: right;\">\n",
       "      <th></th>\n",
       "      <th>CPA</th>\n",
       "    </tr>\n",
       "    <tr>\n",
       "      <th>Geo</th>\n",
       "      <th></th>\n",
       "    </tr>\n",
       "  </thead>\n",
       "  <tbody>\n",
       "    <tr>\n",
       "      <th>australia oceania</th>\n",
       "      <td>0.406604</td>\n",
       "    </tr>\n",
       "    <tr>\n",
       "      <th>cis</th>\n",
       "      <td>0.065580</td>\n",
       "    </tr>\n",
       "    <tr>\n",
       "      <th>latin america</th>\n",
       "      <td>0.025168</td>\n",
       "    </tr>\n",
       "    <tr>\n",
       "      <th>north africa</th>\n",
       "      <td>0.009742</td>\n",
       "    </tr>\n",
       "    <tr>\n",
       "      <th>north america</th>\n",
       "      <td>0.170227</td>\n",
       "    </tr>\n",
       "    <tr>\n",
       "      <th>tropical africa</th>\n",
       "      <td>0.015177</td>\n",
       "    </tr>\n",
       "    <tr>\n",
       "      <th>western europe</th>\n",
       "      <td>0.132621</td>\n",
       "    </tr>\n",
       "  </tbody>\n",
       "</table>\n",
       "</div>"
      ],
      "text/plain": [
       "                        CPA\n",
       "Geo                        \n",
       "australia oceania  0.406604\n",
       "cis                0.065580\n",
       "latin america      0.025168\n",
       "north africa       0.009742\n",
       "north america      0.170227\n",
       "tropical africa    0.015177\n",
       "western europe     0.132621"
      ]
     },
     "execution_count": 103,
     "metadata": {},
     "output_type": "execute_result"
    }
   ],
   "source": [
    "data['CPA']= ((data.Spend/data.Clicks))\n",
    "\n",
    "dta = pd.DataFrame(data.groupby('Geo')['CPA'].mean())\n",
    "dta"
   ]
  },
  {
   "cell_type": "markdown",
   "metadata": {},
   "source": [
    "### Вывод\n",
    "Лидером по затратам на целевое действие является Автралия и океания, Северная Африка, в свою очередь, самый \"дешевый\" регион по этому критерию"
   ]
  },
  {
   "cell_type": "markdown",
   "metadata": {},
   "source": [
    "## Общий Вывод"
   ]
  },
  {
   "cell_type": "markdown",
   "metadata": {},
   "source": [
    "Исследовние предоставленного датасета выполнено. Проведены следующие этапы: \n",
    "- Предобработка\n",
    "- Анализ данных с построением графиков\n",
    "- Выводы \n",
    "\n",
    "Были рассчитаны такие маркенговые метрики как:\n",
    "- Конверсия(CR)\n",
    "- Показатель кликабельности(CTR)\n",
    "- Окупаемость маркетинговых инвестиций(ROMI)\n",
    "- CPI\n",
    "- Стоимость целевого действия(клики)(CTA)"
   ]
  },
  {
   "cell_type": "markdown",
   "metadata": {},
   "source": []
  }
 ],
 "metadata": {
  "kernelspec": {
   "display_name": "Python 3",
   "language": "python",
   "name": "python3"
  },
  "language_info": {
   "codemirror_mode": {
    "name": "ipython",
    "version": 3
   },
   "file_extension": ".py",
   "mimetype": "text/x-python",
   "name": "python",
   "nbconvert_exporter": "python",
   "pygments_lexer": "ipython3",
   "version": "3.9.13"
  },
  "orig_nbformat": 4
 },
 "nbformat": 4,
 "nbformat_minor": 2
}
